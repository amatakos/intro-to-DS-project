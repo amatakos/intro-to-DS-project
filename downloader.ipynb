{
 "metadata": {
  "language_info": {
   "codemirror_mode": {
    "name": "ipython",
    "version": 3
   },
   "file_extension": ".py",
   "mimetype": "text/x-python",
   "name": "python",
   "nbconvert_exporter": "python",
   "pygments_lexer": "ipython3",
   "version": "3.8.5"
  },
  "orig_nbformat": 2,
  "kernelspec": {
   "name": "python3",
   "display_name": "Python 3.8.5 64-bit ('base': conda)",
   "metadata": {
    "interpreter": {
     "hash": "545f8697dbd0f39ba8ca9b07b782766fa49d631da5c4cf750fa2a4b3ca224068"
    }
   }
  }
 },
 "nbformat": 4,
 "nbformat_minor": 2,
 "cells": [
  {
   "cell_type": "code",
   "execution_count": null,
   "metadata": {},
   "outputs": [],
   "source": [
    "import requests\n",
    "from io import BytesIO\n",
    "from zipfile import ZipFile\n",
    "import time"
   ]
  },
  {
   "cell_type": "code",
   "execution_count": null,
   "metadata": {},
   "outputs": [],
   "source": [
    "def download_url(url, folder, chunk_size=128): # download and extract zips to folder\n",
    "    resp = requests.get(url)\n",
    "    if resp.status_code == 200:\n",
    "        zipfile = ZipFile(BytesIO(resp.content))\n",
    "        for file in zipfile.namelist():\n",
    "            zipfile.extract(file, folder)\n",
    "\n",
    "base_url = 'https://rata.digitraffic.fi/api/v1/trains/dumps//digitraffic-rata-trains-' # 2014-01-01.zip\n",
    "\n",
    "\n",
    "for year in range(2015, 2022):\n",
    "    for month in range(1, 13):\n",
    "        year_str = str(year)\n",
    "        month_str = str(month) if len(str(month)) == 2 else '0' + str(month)\n",
    "        day_str = '01'\n",
    "        url = base_url + f'{year_str}-{month_str}-{day_str}.zip'\n",
    "\n",
    "        download_url(url, 'files/')\n",
    "        time.sleep(0.1)\n"
   ]
  },
  {
   "cell_type": "code",
   "execution_count": null,
   "metadata": {},
   "outputs": [],
   "source": []
  },
  {
   "cell_type": "code",
   "execution_count": null,
   "metadata": {},
   "outputs": [],
   "source": [
    "import numpy as np\n",
    "from dateutil.parser import parse\n",
    "\n",
    "def process(json_file, attrs, csv_writer): # process single json\n",
    "    for item in data:\n",
    "        values = [str(item[x]) for x in attrs]\n",
    "        \n",
    "        time_differences = []\n",
    "        for timetable in item['timeTableRows']:\n",
    "            if 'actualTime' not in timetable:\n",
    "                continue\n",
    "            \n",
    "            expected = timetable['scheduledTime']\n",
    "            actual = timetable['actualTime']\n",
    "\n",
    "            time_diff = parse(actual) - parse(expected)\n",
    "            time_diff = time_diff.total_seconds() / 60.0\n",
    "\n",
    "            time_differences.append(time_diff)\n",
    "\n",
    "        if len(time_differences) == 0:\n",
    "            continue\n",
    "\n",
    "        mean = np.mean(time_differences)\n",
    "        std = np.std(time_differences)\n",
    "\n",
    "        csv_writer.writerow(values + [mean, std])  # write to csv\n"
   ]
  },
  {
   "cell_type": "code",
   "execution_count": null,
   "metadata": {
    "tags": []
   },
   "outputs": [],
   "source": [
    "import json\n",
    "import pandas\n",
    "import csv\n",
    "import os\n",
    "import time\n",
    "from collections import deque\n",
    "from IPython.display import clear_output\n",
    "\n",
    "\n",
    "attrs = ['trainNumber', 'departureDate', 'trainType', 'trainCategory']\n",
    "\n",
    "with open('daily.csv', 'w') as f:\n",
    "    csv_writer = csv.writer(f)\n",
    "    csv_writer.writerow(attrs + ['timeDifferenceMean', 'timeDifferenceStd'])\n",
    "\n",
    "    files = os.listdir('files')\n",
    "    for i, json_file in enumerate(sorted(files)):\n",
    "        start_time = time.time()\n",
    "        file_path = os.path.join('files', json_file)\n",
    "\n",
    "        with open(file_path, 'r') as file:\n",
    "            data = json.load(file)\n",
    "            if len(data) == 0:\n",
    "                continue\n",
    "\n",
    "            process(data, attrs, csv_writer)\n",
    "\n",
    "        clear_output(wait=True)\n",
    "        print(f'{i} / {len(files)}')\n",
    "\n",
    "        #os.remove(file_path) # I have to delete the files after i am done to make space\n",
    "\n"
   ]
  },
  {
   "cell_type": "code",
   "execution_count": null,
   "metadata": {},
   "outputs": [],
   "source": []
  },
  {
   "cell_type": "code",
   "execution_count": null,
   "metadata": {},
   "outputs": [],
   "source": []
  }
 ]
}