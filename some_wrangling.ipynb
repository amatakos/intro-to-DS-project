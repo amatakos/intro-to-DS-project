{
 "cells": [
  {
   "cell_type": "code",
   "execution_count": 126,
   "metadata": {},
   "outputs": [
    {
     "name": "stdout",
     "output_type": "stream",
     "text": [
      "['2021-09-01', '2021-09-02', '2021-09-03', '2021-09-04', '2021-09-05', '2021-09-06', '2021-09-07', '2021-09-08', '2021-09-09', '2021-09-10']\n"
     ]
    }
   ],
   "source": [
    "import requests\n",
    "import json\n",
    "import numpy as np \n",
    "import matplotlib.pyplot as plt\n",
    "import datetime\n",
    "from datetime import date, timedelta, datetime \n",
    "\n",
    "# Create a date list containing all dates in %Y-%m-%d format from 2021-09-01 to current day\n",
    "start_date = date(2021, 9, 1) \n",
    "end_date = date.today()\n",
    "\n",
    "def daterange(start_date, end_date):\n",
    "    for n in range(int((end_date - start_date).days)+1):\n",
    "        yield start_date + timedelta(n)\n",
    "\n",
    "date = []\n",
    "for single_date in daterange(start_date, end_date):\n",
    "    date.append(single_date.strftime(\"%Y-%m-%d\"))\n",
    "\n",
    "print(date[:10])"
   ]
  },
  {
   "cell_type": "code",
   "execution_count": 127,
   "metadata": {},
   "outputs": [
    {
     "name": "stdout",
     "output_type": "stream",
     "text": [
      "35938\n"
     ]
    }
   ],
   "source": [
    "# Ran for 3 minutes for 43 days of data\n",
    "\n",
    "base_url = 'http://rata.digitraffic.fi/api/v1/trains/'\n",
    "url = base_url + date[0]\n",
    "\n",
    "data = [] # store data from start date till today \n",
    "for day in date:\n",
    "    r = requests.get(url)\n",
    "    res = r.json()\n",
    "    for obj in res:\n",
    "        if obj[\"trainType\"] == \"HL\": # only store the commuter trains\n",
    "            data.append(obj)\n",
    "    url = base_url + day\n",
    "\n",
    "print(len(data))\n"
   ]
  },
  {
   "cell_type": "code",
   "execution_count": 134,
   "metadata": {},
   "outputs": [],
   "source": [
    "delay = []\n",
    "for obj in data:\n",
    "    for instance in obj['timeTableRows']:\n",
    "        try: # data is dirty, avoid KeyError\n",
    "            scheduledTime = datetime.strptime(instance['scheduledTime'], '%Y-%m-%dT%H:%M:%S.000Z')\n",
    "            actualTime = datetime.strptime(instance['actualTime'], '%Y-%m-%dT%H:%M:%S.000Z')\n",
    "            lag = (actualTime - scheduledTime).total_seconds()\n",
    "            delay.append(lag)\n",
    "        except:\n",
    "            continue\n",
    "\n",
    "delay = np.array(delay, dtype=np.int32)"
   ]
  },
  {
   "cell_type": "code",
   "execution_count": 135,
   "metadata": {},
   "outputs": [
    {
     "name": "stdout",
     "output_type": "stream",
     "text": [
      "Number of train rides for which I calculated delays: 1421091\n",
      "Number of outliers: 12071 (where delay was larger than +- 600 seconds)\n",
      "Number of instances where train arrived earlier than scheduled: 107793\n",
      "Average positive delay 81.49977232890022\n",
      "Standard deviation of positive delay 137.39727167248097\n",
      "Median of positive delay 47.0\n"
     ]
    }
   ],
   "source": [
    "print(\"Number of train rides for which I calculated delays:\", len(delay))\n",
    "print(\"Number of outliers:\", len(delay[(delay < -600) | (delay > 600)]), \"(where delay was larger than +- 600 seconds)\")\n",
    "print(\"Number of instances where train arrived earlier than scheduled:\", len(delay[(delay<0)]))\n",
    "positive_delay = delay[delay>=0]\n",
    "print(\"Average positive delay\", positive_delay.mean())\n",
    "print(\"Standard deviation of positive delay\", positive_delay.std())\n",
    "print(\"Median of positive delay\", np.median(positive_delay))"
   ]
  },
  {
   "cell_type": "code",
   "execution_count": 141,
   "metadata": {},
   "outputs": [
    {
     "name": "stdout",
     "output_type": "stream",
     "text": [
      "Standard deviation of positive delay after filtering out outliers 81.17785173201756\n"
     ]
    },
    {
     "data": {
      "image/png": "[encoded data removed]",
      "text/plain": [
       "<Figure size 432x288 with 1 Axes>"
      ]
     },
     "metadata": {
      "needs_background": "light"
     },
     "output_type": "display_data"
    }
   ],
   "source": [
    "# filter out hard outliers (>10 minutes)\n",
    "positive_delay = positive_delay[positive_delay < 600]\n",
    "plt.hist(positive_delay, 50)\n",
    "plt.xlabel(\"Seconds\")\n",
    "plt.ylabel(\"Count\")\n",
    "plt.title(\"Delay for commuter trains from 2021-09-01 to today (whole Finland)\")\n",
    "print(\"Standard deviation of positive delay after filtering out outliers\", positive_delay.std())"
   ]
  },
  {
   "cell_type": "code",
   "execution_count": 137,
   "metadata": {},
   "outputs": [
    {
     "data": {
      "text/plain": [
       "1262"
      ]
     },
     "execution_count": 137,
     "metadata": {},
     "output_type": "execute_result"
    }
   ],
   "source": [
    "import requests\n",
    "import json\n",
    "\n",
    "base_url = 'http://rata.digitraffic.fi/'\n",
    "url = base_url + '/api/v1/trains/2018-08-12'\n",
    "\n",
    "r = requests.get(url)\n",
    "res = r.json()\n",
    "len(res)"
   ]
  },
  {
   "cell_type": "code",
   "execution_count": 140,
   "metadata": {},
   "outputs": [
    {
     "data": {
      "text/plain": [
       "{'IC': 104,\n",
       " 'S': 30,\n",
       " 'PVV': 1,\n",
       " 'PYO': 0,\n",
       " 'HSM': 3,\n",
       " 'HDM': 40,\n",
       " 'P': 5,\n",
       " 'AE': 7,\n",
       " 'T': 170,\n",
       " 'HL': 563,\n",
       " 'VET': 108,\n",
       " 'HV': 15,\n",
       " 'MV': 9,\n",
       " 'SAA': 76,\n",
       " 'PAI': 72,\n",
       " 'W': 12,\n",
       " 'VEV': 4,\n",
       " 'TYO': 24,\n",
       " 'LIV': 0}"
      ]
     },
     "execution_count": 140,
     "metadata": {},
     "output_type": "execute_result"
    }
   ],
   "source": [
    "def count_per_train_type(data):\n",
    "    '''Returns a dictionary containing (trainType, count) key-value pairs'''\n",
    "    counts = {}\n",
    "    for obj in data:\n",
    "        if obj[\"trainType\"] in counts:\n",
    "            counts[obj[\"trainType\"]] += 1\n",
    "        else:\n",
    "            counts[obj[\"trainType\"]] = 0\n",
    "    return counts\n",
    "\n",
    "count_per_train_type(res)"
   ]
  },
  {
   "cell_type": "code",
   "execution_count": 139,
   "metadata": {},
   "outputs": [
    {
     "data": {
      "text/plain": [
       "{'IC': 'Long-distance',\n",
       " 'S': 'Long-distance',\n",
       " 'PVV': 'Long-distance',\n",
       " 'PYO': 'Long-distance',\n",
       " 'HSM': 'Long-distance',\n",
       " 'HDM': 'Long-distance',\n",
       " 'P': 'Long-distance',\n",
       " 'AE': 'Long-distance',\n",
       " 'T': 'Cargo',\n",
       " 'HL': 'Commuter',\n",
       " 'VET': 'Locomotive',\n",
       " 'HV': 'Commuter',\n",
       " 'MV': 'Long-distance',\n",
       " 'SAA': 'Shunting',\n",
       " 'PAI': 'Shunting',\n",
       " 'W': 'Shunting',\n",
       " 'VEV': 'Shunting',\n",
       " 'TYO': 'On-track machines',\n",
       " 'LIV': 'Test drive'}"
      ]
     },
     "execution_count": 139,
     "metadata": {},
     "output_type": "execute_result"
    }
   ],
   "source": [
    "def different_train_types(data):  \n",
    "    '''Returns a dictionary containing (trainType, trainCategory) key-value pairs'''  \n",
    "    types = {}\n",
    "    for obj in data:\n",
    "        types[obj[\"trainType\"]] = obj[\"trainCategory\"]\n",
    "    return types \n",
    "\n",
    "different_train_types(res)"
   ]
  }
 ],
 "metadata": {
  "interpreter": {
   "hash": "ad6f6557ba1dd36c55f73969401f6525222f86647828d98e0417e345e92c2cb2"
  },
  "kernelspec": {
   "display_name": "Python 3.9.6 64-bit ('coderefinery': conda)",
   "name": "python3"
  },
  "language_info": {
   "codemirror_mode": {
    "name": "ipython",
    "version": 3
   },
   "file_extension": ".py",
   "mimetype": "text/x-python",
   "name": "python",
   "nbconvert_exporter": "python",
   "pygments_lexer": "ipython3",
   "version": "3.9.6"
  }
 },
 "nbformat": 4,
 "nbformat_minor": 5
}
